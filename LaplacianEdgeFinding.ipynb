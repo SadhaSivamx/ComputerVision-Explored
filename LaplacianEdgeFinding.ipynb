{
  "nbformat": 4,
  "nbformat_minor": 0,
  "metadata": {
    "colab": {
      "provenance": []
    },
    "kernelspec": {
      "name": "python3",
      "display_name": "Python 3"
    },
    "language_info": {
      "name": "python"
    }
  },
  "cells": [
    {
      "cell_type": "code",
      "execution_count": 8,
      "metadata": {
        "colab": {
          "base_uri": "https://localhost:8080/",
          "height": 332
        },
        "id": "C4A8kOqkd9yi",
        "outputId": "62fe813f-ba2e-4453-d8b7-2e8b71a1aa4d"
      },
      "outputs": [
        {
          "output_type": "display_data",
          "data": {
            "text/plain": [
              "<Figure size 1200x600 with 3 Axes>"
            ],
            "image/png": "[encoded data removed]"
          },
          "metadata": {}
        }
      ],
      "source": [
        "import numpy as np\n",
        "import matplotlib.pyplot as plt\n",
        "from scipy.ndimage import convolve\n",
        "from skimage import io, color\n",
        "import cv2\n",
        "# Function to apply Gaussian blur\n",
        "def gaussian_blur(image, kernel_size=3, sigma=1.0):\n",
        "    ax = np.linspace(-(kernel_size - 1) / 2., (kernel_size - 1) / 2., kernel_size)\n",
        "    xx, yy = np.meshgrid(ax, ax)\n",
        "    kernel = np.exp(-0.5 * (np.square(xx) + np.square(yy)) / np.square(sigma))\n",
        "    kernel = kernel / np.sum(kernel)\n",
        "    return convolve(image, kernel)\n",
        "\n",
        "# Function to apply Laplacian filter\n",
        "def laplacian_filter(image):\n",
        "    kernel = np.array([[0, 1, 0],\n",
        "                       [1, -4, 1],\n",
        "                       [0, 1, 0]])\n",
        "    return convolve(image, kernel)\n",
        "\n",
        "# Load the image\n",
        "image_url = '1.png'  # replace with your image path\n",
        "image = cv2.imread(image_url)\n",
        "gray_image = cv2.imread(image_url,0)  # Convert to grayscale\n",
        "\n",
        "# Apply Gaussian blur\n",
        "blurred_image = gaussian_blur(gray_image)\n",
        "\n",
        "# Apply Laplacian filter\n",
        "laplacian_image = laplacian_filter(blurred_image)\n",
        "\n",
        "# Display the results\n",
        "plt.figure(figsize=(12, 6))\n",
        "\n",
        "plt.subplot(1, 3, 1)\n",
        "plt.imshow(gray_image, cmap='gray')\n",
        "plt.title('Original Grayscale Image')\n",
        "plt.axis('off')\n",
        "\n",
        "plt.subplot(1, 3, 2)\n",
        "plt.imshow(blurred_image, cmap='gray')\n",
        "plt.title('Blurred Image')\n",
        "plt.axis('off')\n",
        "\n",
        "plt.subplot(1, 3, 3)\n",
        "plt.imshow(np.abs(laplacian_image), cmap='gray')\n",
        "plt.title('Laplacian Edges')\n",
        "plt.axis('off')\n",
        "\n",
        "plt.show()\n"
      ]
    }
  ]
}