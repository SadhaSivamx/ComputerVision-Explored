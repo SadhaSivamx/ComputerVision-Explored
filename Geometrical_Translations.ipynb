{
  "nbformat": 4,
  "nbformat_minor": 0,
  "metadata": {
    "colab": {
      "provenance": []
    },
    "kernelspec": {
      "name": "python3",
      "display_name": "Python 3"
    },
    "language_info": {
      "name": "python"
    }
  },
  "cells": [
    {
      "cell_type": "code",
      "execution_count": 52,
      "metadata": {
        "id": "wX90Q2IVJihw"
      },
      "outputs": [],
      "source": [
        "import cv2 as cv\n",
        "import matplotlib.pyplot as plt\n",
        "import numpy as np"
      ]
    },
    {
      "cell_type": "code",
      "source": [
        "#Scaling Matrix\n",
        "def TransformMatrix_Sc(img):\n",
        "    height, width = img.shape[:2]\n",
        "    # Create the matrix\n",
        "    rotation_matrix = np.array([[2, 0],[0, 2]])\n",
        "\n",
        "    # Initialize an empty image for the rotated result\n",
        "    Nimg = np.zeros_like(img)\n",
        "\n",
        "    # Compute the center of the image\n",
        "    center_x, center_y = width // 2, height // 2\n",
        "\n",
        "    for y in range(height):\n",
        "        for x in range(width):\n",
        "            # Translate coordinates to the origin\n",
        "            orig_x = x - center_x\n",
        "            orig_y = y - center_y\n",
        "\n",
        "            # Apply the matrix\n",
        "            new_x, new_y = np.dot(rotation_matrix, [orig_x, orig_y])\n",
        "\n",
        "            # Translate back to the new image coordinates\n",
        "            new_x = int(new_x + center_x)\n",
        "            new_y = int(new_y + center_y)\n",
        "\n",
        "            # Check bounds and assign pixel value\n",
        "            if 0 <= new_x < width and 0 <= new_y < height:\n",
        "                Nimg[new_y, new_x] = img[y, x]\n",
        "    return Nimg"
      ],
      "metadata": {
        "id": "QgmoOhZeKMDe"
      },
      "execution_count": 53,
      "outputs": []
    },
    {
      "cell_type": "code",
      "source": [
        "#Translation Matrix\n",
        "def TransformMatrix_Tr(img):\n",
        "    height, width = img.shape[:2]\n",
        "    # Create the matrix\n",
        "    rotation_matrix = np.array([[2, 0],[0, 2]])\n",
        "\n",
        "    # Initialize an empty image for the rotated result\n",
        "    Nimg = np.zeros_like(img)\n",
        "\n",
        "    # Compute the center of the image\n",
        "    center_x, center_y = width // 2, height // 2\n",
        "\n",
        "    for y in range(height):\n",
        "        for x in range(width):\n",
        "            # Translate coordinates to the origin\n",
        "            orig_x = x - center_x\n",
        "            orig_y = y - center_y\n",
        "\n",
        "            # Apply the matrix\n",
        "            new_x, new_y = np.dot(rotation_matrix, [orig_x, orig_y])\n",
        "\n",
        "            # Translate back to the new image coordinates\n",
        "            new_x = int(new_x + center_x + 30)\n",
        "            new_y = int(new_y + center_y + 30)\n",
        "\n",
        "            # Check bounds and assign pixel value\n",
        "            if 0 <= new_x < width and 0 <= new_y < height:\n",
        "                Nimg[new_y, new_x] = img[y, x]\n",
        "    return Nimg"
      ],
      "metadata": {
        "id": "aM53bHFDLSE3"
      },
      "execution_count": 54,
      "outputs": []
    },
    {
      "cell_type": "code",
      "source": [
        "#Shearing Matrix\n",
        "def TransformMatrix_Sh(img):\n",
        "    height, width = img.shape[:2]\n",
        "    # Create the matrix\n",
        "    rotation_matrix = np.array([[1, 0],[1, 1]])\n",
        "\n",
        "    # Initialize an empty image for the rotated result\n",
        "    Nimg = np.zeros_like(img)\n",
        "\n",
        "    # Compute the center of the image\n",
        "    center_x, center_y = width // 2, height // 2\n",
        "\n",
        "    for y in range(height):\n",
        "        for x in range(width):\n",
        "            # Translate coordinates to the origin\n",
        "            orig_x = x - center_x\n",
        "            orig_y = y - center_y\n",
        "\n",
        "            # Apply the matrix\n",
        "            new_x, new_y = np.dot(rotation_matrix, [orig_x, orig_y])\n",
        "\n",
        "            # Translate back to the new image coordinates\n",
        "            new_x = int(new_x + center_x)\n",
        "            new_y = int(new_y + center_y)\n",
        "\n",
        "            # Check bounds and assign pixel value\n",
        "            if 0 <= new_x < width and 0 <= new_y < height:\n",
        "                Nimg[new_y, new_x] = img[y, x]\n",
        "    return Nimg"
      ],
      "metadata": {
        "id": "FpqLUYjYLor5"
      },
      "execution_count": 55,
      "outputs": []
    },
    {
      "cell_type": "code",
      "source": [
        "#Shearing Matrix\n",
        "def TransformMatrix_Ro(img,angle=45):\n",
        "    height, width = img.shape[:2]\n",
        "\n",
        "    # Create the matrix\n",
        "    theta = np.radians(angle)\n",
        "    cos_theta = np.cos(theta)\n",
        "    sin_theta = np.sin(theta)\n",
        "    rotation_matrix = np.array([[cos_theta, -sin_theta],[sin_theta, cos_theta]])\n",
        "\n",
        "    # Initialize an empty image for the rotated result\n",
        "    Nimg = np.zeros_like(img)\n",
        "\n",
        "    # Compute the center of the image\n",
        "    center_x, center_y = width // 2, height // 2\n",
        "\n",
        "    for y in range(height):\n",
        "        for x in range(width):\n",
        "            # Translate coordinates to the origin\n",
        "            orig_x = x - center_x\n",
        "            orig_y = y - center_y\n",
        "\n",
        "            # Apply the matrix\n",
        "            new_x, new_y = np.dot(rotation_matrix, [orig_x, orig_y])\n",
        "\n",
        "            # Translate back to the new image coordinates\n",
        "            new_x = int(new_x + center_x)\n",
        "            new_y = int(new_y + center_y)\n",
        "\n",
        "            # Check bounds and assign pixel value\n",
        "            if 0 <= new_x < width and 0 <= new_y < height:\n",
        "                Nimg[new_y, new_x] = img[y, x]\n",
        "    return Nimg"
      ],
      "metadata": {
        "id": "YB_h0cjVL8TB"
      },
      "execution_count": 56,
      "outputs": []
    },
    {
      "cell_type": "code",
      "source": [
        "img = cv.imread(\"Dragon.png\")\n",
        "img = cv.resize(img, (50, 50))"
      ],
      "metadata": {
        "id": "ILH-2l8SJqOt"
      },
      "execution_count": 57,
      "outputs": []
    },
    {
      "cell_type": "code",
      "source": [
        "Timg=TransformMatrix_Sh(img)\n",
        "plt.figure(figsize=(10, 5))\n",
        "\n",
        "plt.subplot(1, 2, 1)\n",
        "plt.title(\"Original Image\")\n",
        "plt.imshow(cv.cvtColor(img, cv.COLOR_BGR2RGB))\n",
        "plt.axis('off')\n",
        "\n",
        "plt.subplot(1, 2, 2)\n",
        "plt.title(\"Transformed Image\")\n",
        "plt.imshow(cv.cvtColor(Timg, cv.COLOR_BGR2RGB))\n",
        "plt.axis('off')\n",
        "\n",
        "plt.show()"
      ],
      "metadata": {
        "colab": {
          "base_uri": "https://localhost:8080/",
          "height": 411
        },
        "id": "6SOFHkMLJ2MH",
        "outputId": "616c7683-01d1-40d1-bc75-b904066a9578"
      },
      "execution_count": 60,
      "outputs": [
        {
          "output_type": "display_data",
          "data": {
            "text/plain": [
              "<Figure size 1000x500 with 2 Axes>"
            ],
            "image/png": "[encoded data removed]"
          },
          "metadata": {}
        }
      ]
    },
    {
      "cell_type": "code",
      "source": [],
      "metadata": {
        "id": "MQVmowYELbKP"
      },
      "execution_count": 58,
      "outputs": []
    }
  ]
}